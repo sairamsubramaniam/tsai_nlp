{
  "nbformat": 4,
  "nbformat_minor": 0,
  "metadata": {
    "colab": {
      "name": "END1P1 Seq2Seq NMT - COQA.ipynb",
      "provenance": []
    },
    "kernelspec": {
      "name": "python3",
      "display_name": "Python 3"
    },
    "accelerator": "GPU"
  },
  "cells": [
    {
      "cell_type": "markdown",
      "metadata": {
        "id": "kFSXm9fkrfFH"
      },
      "source": [
        "### Install Pre-requisites"
      ]
    },
    {
      "cell_type": "code",
      "metadata": {
        "id": "4DmrizZsrekd",
        "colab": {
          "base_uri": "https://localhost:8080/"
        },
        "outputId": "1e0bf20c-698f-4305-86f6-9f12dab31e47"
      },
      "source": [
        "%%bash\n",
        "python -m spacy download en"
      ],
      "execution_count": 1,
      "outputs": [
        {
          "output_type": "stream",
          "text": [
            "Requirement already satisfied: en_core_web_sm==2.2.5 from https://github.com/explosion/spacy-models/releases/download/en_core_web_sm-2.2.5/en_core_web_sm-2.2.5.tar.gz#egg=en_core_web_sm==2.2.5 in /usr/local/lib/python3.6/dist-packages (2.2.5)\n",
            "Requirement already satisfied: spacy>=2.2.2 in /usr/local/lib/python3.6/dist-packages (from en_core_web_sm==2.2.5) (2.2.4)\n",
            "Requirement already satisfied: thinc==7.4.0 in /usr/local/lib/python3.6/dist-packages (from spacy>=2.2.2->en_core_web_sm==2.2.5) (7.4.0)\n",
            "Requirement already satisfied: catalogue<1.1.0,>=0.0.7 in /usr/local/lib/python3.6/dist-packages (from spacy>=2.2.2->en_core_web_sm==2.2.5) (1.0.0)\n",
            "Requirement already satisfied: murmurhash<1.1.0,>=0.28.0 in /usr/local/lib/python3.6/dist-packages (from spacy>=2.2.2->en_core_web_sm==2.2.5) (1.0.5)\n",
            "Requirement already satisfied: blis<0.5.0,>=0.4.0 in /usr/local/lib/python3.6/dist-packages (from spacy>=2.2.2->en_core_web_sm==2.2.5) (0.4.1)\n",
            "Requirement already satisfied: preshed<3.1.0,>=3.0.2 in /usr/local/lib/python3.6/dist-packages (from spacy>=2.2.2->en_core_web_sm==2.2.5) (3.0.5)\n",
            "Requirement already satisfied: tqdm<5.0.0,>=4.38.0 in /usr/local/lib/python3.6/dist-packages (from spacy>=2.2.2->en_core_web_sm==2.2.5) (4.41.1)\n",
            "Requirement already satisfied: numpy>=1.15.0 in /usr/local/lib/python3.6/dist-packages (from spacy>=2.2.2->en_core_web_sm==2.2.5) (1.19.4)\n",
            "Requirement already satisfied: requests<3.0.0,>=2.13.0 in /usr/local/lib/python3.6/dist-packages (from spacy>=2.2.2->en_core_web_sm==2.2.5) (2.23.0)\n",
            "Requirement already satisfied: wasabi<1.1.0,>=0.4.0 in /usr/local/lib/python3.6/dist-packages (from spacy>=2.2.2->en_core_web_sm==2.2.5) (0.8.0)\n",
            "Requirement already satisfied: cymem<2.1.0,>=2.0.2 in /usr/local/lib/python3.6/dist-packages (from spacy>=2.2.2->en_core_web_sm==2.2.5) (2.0.5)\n",
            "Requirement already satisfied: plac<1.2.0,>=0.9.6 in /usr/local/lib/python3.6/dist-packages (from spacy>=2.2.2->en_core_web_sm==2.2.5) (1.1.3)\n",
            "Requirement already satisfied: setuptools in /usr/local/lib/python3.6/dist-packages (from spacy>=2.2.2->en_core_web_sm==2.2.5) (51.0.0)\n",
            "Requirement already satisfied: srsly<1.1.0,>=1.0.2 in /usr/local/lib/python3.6/dist-packages (from spacy>=2.2.2->en_core_web_sm==2.2.5) (1.0.5)\n",
            "Requirement already satisfied: importlib-metadata>=0.20; python_version < \"3.8\" in /usr/local/lib/python3.6/dist-packages (from catalogue<1.1.0,>=0.0.7->spacy>=2.2.2->en_core_web_sm==2.2.5) (3.3.0)\n",
            "Requirement already satisfied: idna<3,>=2.5 in /usr/local/lib/python3.6/dist-packages (from requests<3.0.0,>=2.13.0->spacy>=2.2.2->en_core_web_sm==2.2.5) (2.10)\n",
            "Requirement already satisfied: urllib3!=1.25.0,!=1.25.1,<1.26,>=1.21.1 in /usr/local/lib/python3.6/dist-packages (from requests<3.0.0,>=2.13.0->spacy>=2.2.2->en_core_web_sm==2.2.5) (1.24.3)\n",
            "Requirement already satisfied: chardet<4,>=3.0.2 in /usr/local/lib/python3.6/dist-packages (from requests<3.0.0,>=2.13.0->spacy>=2.2.2->en_core_web_sm==2.2.5) (3.0.4)\n",
            "Requirement already satisfied: certifi>=2017.4.17 in /usr/local/lib/python3.6/dist-packages (from requests<3.0.0,>=2.13.0->spacy>=2.2.2->en_core_web_sm==2.2.5) (2020.12.5)\n",
            "Requirement already satisfied: zipp>=0.5 in /usr/local/lib/python3.6/dist-packages (from importlib-metadata>=0.20; python_version < \"3.8\"->catalogue<1.1.0,>=0.0.7->spacy>=2.2.2->en_core_web_sm==2.2.5) (3.4.0)\n",
            "Requirement already satisfied: typing-extensions>=3.6.4; python_version < \"3.8\" in /usr/local/lib/python3.6/dist-packages (from importlib-metadata>=0.20; python_version < \"3.8\"->catalogue<1.1.0,>=0.0.7->spacy>=2.2.2->en_core_web_sm==2.2.5) (3.7.4.3)\n",
            "\u001b[38;5;2m✔ Download and installation successful\u001b[0m\n",
            "You can now load the model via spacy.load('en_core_web_sm')\n",
            "\u001b[38;5;2m✔ Linking successful\u001b[0m\n",
            "/usr/local/lib/python3.6/dist-packages/en_core_web_sm -->\n",
            "/usr/local/lib/python3.6/dist-packages/spacy/data/en\n",
            "You can now load the model via spacy.load('en')\n"
          ],
          "name": "stdout"
        }
      ]
    },
    {
      "cell_type": "markdown",
      "metadata": {
        "id": "5m7vLPkzVR3J"
      },
      "source": [
        "### Import Modules"
      ]
    },
    {
      "cell_type": "code",
      "metadata": {
        "id": "kHDeXYWUUlkN"
      },
      "source": [
        "import json\n",
        "import math\n",
        "import random\n",
        "import time\n",
        "\n",
        "import spacy\n",
        "import torch\n",
        "import torch.nn as nn\n",
        "import torch.optim as optim\n",
        "import torchtext.data as td\n",
        "\n",
        "SEED = 2020"
      ],
      "execution_count": 2,
      "outputs": []
    },
    {
      "cell_type": "markdown",
      "metadata": {
        "id": "-3XDzyv9VVLN"
      },
      "source": [
        "### Create Dataset"
      ]
    },
    {
      "cell_type": "code",
      "metadata": {
        "colab": {
          "base_uri": "https://localhost:8080/"
        },
        "id": "_BHixRIgJ7cj",
        "outputId": "cf2ea36d-2d11-4a5d-c18c-2426049f7f57"
      },
      "source": [
        "!unzip coqa-train-v1.0.zip"
      ],
      "execution_count": 3,
      "outputs": [
        {
          "output_type": "stream",
          "text": [
            "Archive:  coqa-train-v1.0.zip\n",
            "  inflating: coqa-train-v1.0.json    \n"
          ],
          "name": "stdout"
        }
      ]
    },
    {
      "cell_type": "code",
      "metadata": {
        "id": "JS8kHQdZVW6u"
      },
      "source": [
        "def iteratively_add_conv_history(psg_with_turns, fields):\n",
        "    psg = psg_with_turns[\"story\"]\n",
        "    total_turns = len(psg_with_turns[\"questions\"])\n",
        "    dataset = []\n",
        "    for q in range(total_turns):\n",
        "        question = psg_with_turns[\"questions\"][q][\"input_text\"]\n",
        "        answer = psg_with_turns[\"answers\"][q][\"input_text\"]\n",
        "        psg += (\" chiknichameli \" + question)\n",
        "        dataset.append( (psg, answer, fields) )\n",
        "        psg += (\" chiknachamela \" + answer)\n",
        "    return dataset\n",
        "\n",
        "def create_dataset_from_raw(alldata, fields):\n",
        "    dataset = []\n",
        "    for d in alldata[\"data\"]:\n",
        "        dataset.extend( iteratively_add_conv_history(psg_with_turns=d, fields=fields) )\n",
        "    return dataset\n",
        "\n",
        "\n",
        "spacy_en = spacy.load('en')\n",
        "def tokenize_en(text):\n",
        "    return [tok.text for tok in spacy_en.tokenizer(text)]\n",
        "\n",
        "\n",
        "SRC = td.Field(sequential=True, tokenize=tokenize_en, init_token='<sos>', \n",
        "            eos_token='<eos>', \n",
        "            lower=True)\n",
        "TRG = td.Field(sequential=True, tokenize=tokenize_en, is_target=True, init_token='<sos>', \n",
        "            eos_token='<eos>', \n",
        "            lower=True)\n",
        "fields = [(\"src\", SRC), (\"trg\", TRG)]\n",
        "\n",
        "alldata = json.load(  open(\"coqa-train-v1.0.json\", \"r\")  )\n",
        "example = [  td.Example.fromlist([q,a], f) for q,a,f in create_dataset_from_raw(alldata=alldata, fields=fields)  ] \n",
        "\n",
        "ds = td.Dataset(example, fields)"
      ],
      "execution_count": 4,
      "outputs": []
    },
    {
      "cell_type": "code",
      "metadata": {
        "id": "-UiIGpj2CFiK"
      },
      "source": [
        "(train_data, valid_data) = ds.split(split_ratio=[0.85, 0.15], random_state=random.seed(SEED))"
      ],
      "execution_count": 5,
      "outputs": []
    },
    {
      "cell_type": "code",
      "metadata": {
        "id": "bnSesbH7C-PI"
      },
      "source": [
        "SRC.build_vocab(train_data, min_freq = 5)\n",
        "TRG.build_vocab(train_data, min_freq = 5)"
      ],
      "execution_count": 6,
      "outputs": []
    },
    {
      "cell_type": "code",
      "metadata": {
        "id": "czNhQC2SEnJY"
      },
      "source": [
        "BATCH_SIZE = 128\n",
        "device = torch.device(\"cuda\" if torch.cuda.is_available() else \"cpu\")\n",
        "\n",
        "def sk(x):\n",
        "    return len(  next(x.question)  )\n",
        "\n",
        "# train_iter, valid_iter = td.BucketIterator.splits( (train_data, valid_data), \n",
        "#                                                               batch_size=BATCH_SIZE, \n",
        "#                                                               device=device )\n",
        "\n",
        "train_iter = td.BucketIterator( train_data, \n",
        "                                                batch_size=BATCH_SIZE, \n",
        "                                                device=device )\n",
        "valid_iter = td.BucketIterator( valid_data, \n",
        "                                                batch_size=BATCH_SIZE, \n",
        "                                                device=device )"
      ],
      "execution_count": 7,
      "outputs": []
    },
    {
      "cell_type": "markdown",
      "metadata": {
        "id": "Vv9gTvML7DUB"
      },
      "source": [
        "### Create Encoder Model"
      ]
    },
    {
      "cell_type": "code",
      "metadata": {
        "id": "XdA-a1sjFATA"
      },
      "source": [
        "class Encoder(nn.Module):\n",
        "    def __init__(self, input_dim, embed_dim, hidden_dim, dropout):\n",
        "        super().__init__()\n",
        "        self.hidden_dim = hidden_dim\n",
        "        self.embedding = nn.Embedding(input_dim, embed_dim)\n",
        "        self.rnn = nn.GRU(embed_dim, hidden_dim)\n",
        "        self.dropout = nn.Dropout(dropout)\n",
        "    \n",
        "    def forward(self, inpdata):\n",
        "        emb = self.dropout(self.embedding(inpdata))\n",
        "        outputs, hidden = self.rnn(emb)\n",
        "        return hidden"
      ],
      "execution_count": 8,
      "outputs": []
    },
    {
      "cell_type": "markdown",
      "metadata": {
        "id": "J3SvADrweANm"
      },
      "source": [
        "### Create Decoder Model"
      ]
    },
    {
      "cell_type": "code",
      "metadata": {
        "id": "V_npkdfDd0yR"
      },
      "source": [
        "class Decoder(nn.Module):\n",
        "    def __init__(self, output_dim, embed_dim, hidden_dim, dropout):\n",
        "        super().__init__()\n",
        "        self.hidden_dim = hidden_dim\n",
        "        self.output_dim = output_dim\n",
        "        \n",
        "        self.embedding = nn.Embedding(output_dim, embed_dim)\n",
        "        self.rnn = nn.GRU(  embed_dim + hidden_dim, hidden_dim  )\n",
        "        self.fc = nn.Linear(  embed_dim + hidden_dim * 2, output_dim  )\n",
        "        self.dropout = nn.Dropout(dropout)\n",
        "\n",
        "    def forward(self, inpdata, hidden, context):\n",
        "        inpdata = inpdata.unsqueeze(0)\n",
        "        emb = self.dropout(self.embedding(inpdata))\n",
        "        emb_con = torch.cat([emb, context], dim=2)\n",
        "        output, hidden = self.rnn(emb_con, hidden)\n",
        "        output = torch.cat((emb.squeeze(0), hidden.squeeze(0), context.squeeze(0)), \n",
        "                           dim = 1)\n",
        "        prediction = self.fc(output)\n",
        "        return prediction, hidden\n"
      ],
      "execution_count": 9,
      "outputs": []
    },
    {
      "cell_type": "markdown",
      "metadata": {
        "id": "HgfV_wNYp8jL"
      },
      "source": [
        "### Seq To Seq Model"
      ]
    },
    {
      "cell_type": "code",
      "metadata": {
        "id": "txrxhKVZp-Qv"
      },
      "source": [
        "class Seq2Seq(nn.Module):\n",
        "    def __init__(self, encoder, decoder, device):\n",
        "        super().__init__()\n",
        "        \n",
        "        self.encoder = encoder\n",
        "        self.decoder = decoder\n",
        "        self.device = device\n",
        "        \n",
        "        assert encoder.hidden_dim == decoder.hidden_dim, \\\n",
        "            \"Hidden dimensions of encoder and decoder must be equal!\"\n",
        "        \n",
        "    def forward(self, src, trg, teacher_forcing_ratio = 0.5):\n",
        "        batch_size = trg.shape[1]\n",
        "        trg_len = trg.shape[0]\n",
        "        trg_vocab_size = self.decoder.output_dim\n",
        "        outputs = torch.zeros(trg_len, batch_size, trg_vocab_size).to(self.device)\n",
        "        context = self.encoder(src)\n",
        "        hidden = context\n",
        "        input = trg[0,:]\n",
        "        \n",
        "        for t in range(1, trg_len):\n",
        "            output, hidden = self.decoder(input, hidden, context)\n",
        "            outputs[t] = output\n",
        "            teacher_force = random.random() < teacher_forcing_ratio\n",
        "            top1 = output.argmax(1) \n",
        "            input = trg[t] if teacher_force else top1\n",
        "\n",
        "        return outputs"
      ],
      "execution_count": 10,
      "outputs": []
    },
    {
      "cell_type": "markdown",
      "metadata": {
        "id": "0q2-GrJWqQGl"
      },
      "source": [
        "### Initialize model"
      ]
    },
    {
      "cell_type": "code",
      "metadata": {
        "id": "XoNWDkfFqRyt"
      },
      "source": [
        "INPUT_DIM = len(SRC.vocab)\n",
        "OUTPUT_DIM = len(TRG.vocab)\n",
        "ENC_EMB_DIM = 256\n",
        "DEC_EMB_DIM = 256\n",
        "HID_DIM = 512\n",
        "ENC_DROPOUT = 0.5\n",
        "DEC_DROPOUT = 0.5\n",
        "\n",
        "enc = Encoder(INPUT_DIM, ENC_EMB_DIM, HID_DIM, ENC_DROPOUT)\n",
        "dec = Decoder(OUTPUT_DIM, DEC_EMB_DIM, HID_DIM, DEC_DROPOUT)\n",
        "\n",
        "device = torch.device('cuda' if torch.cuda.is_available() else 'cpu')\n",
        "\n",
        "model = Seq2Seq(enc, dec, device).to(device)"
      ],
      "execution_count": 11,
      "outputs": []
    },
    {
      "cell_type": "markdown",
      "metadata": {
        "id": "OZr3n1AYqYjA"
      },
      "source": [
        "### Initialize Weights As Given In The Paper"
      ]
    },
    {
      "cell_type": "code",
      "metadata": {
        "id": "klJaNmYjqaHC",
        "colab": {
          "base_uri": "https://localhost:8080/"
        },
        "outputId": "685f8d9b-9ffe-4b4e-9e77-6efaf8194128"
      },
      "source": [
        "def init_weights(m):\n",
        "    for name, param in m.named_parameters():\n",
        "        nn.init.normal_(param.data, mean=0, std=0.01)\n",
        "        \n",
        "model.apply(init_weights)"
      ],
      "execution_count": 12,
      "outputs": [
        {
          "output_type": "execute_result",
          "data": {
            "text/plain": [
              "Seq2Seq(\n",
              "  (encoder): Encoder(\n",
              "    (embedding): Embedding(65168, 256)\n",
              "    (rnn): GRU(256, 512)\n",
              "    (dropout): Dropout(p=0.5, inplace=False)\n",
              "  )\n",
              "  (decoder): Decoder(\n",
              "    (embedding): Embedding(5985, 256)\n",
              "    (rnn): GRU(768, 512)\n",
              "    (fc): Linear(in_features=1280, out_features=5985, bias=True)\n",
              "    (dropout): Dropout(p=0.5, inplace=False)\n",
              "  )\n",
              ")"
            ]
          },
          "metadata": {
            "tags": []
          },
          "execution_count": 12
        }
      ]
    },
    {
      "cell_type": "markdown",
      "metadata": {
        "id": "wtGmUUQKrDaO"
      },
      "source": [
        "### Count Parameters"
      ]
    },
    {
      "cell_type": "code",
      "metadata": {
        "id": "N1CPY78GrEz-",
        "colab": {
          "base_uri": "https://localhost:8080/"
        },
        "outputId": "98515c77-09c8-4bfe-e7ac-39093238f573"
      },
      "source": [
        "def count_parameters(model):\n",
        "    return sum(p.numel() for p in model.parameters() if p.requires_grad)\n",
        "\n",
        "print(f'The model has {count_parameters(model):,} trainable parameters')"
      ],
      "execution_count": 13,
      "outputs": [
        {
          "output_type": "stream",
          "text": [
            "The model has 29,033,825 trainable parameters\n"
          ],
          "name": "stdout"
        }
      ]
    },
    {
      "cell_type": "markdown",
      "metadata": {
        "id": "NH5FjpTqrSnC"
      },
      "source": [
        "### Initialize Training Components"
      ]
    },
    {
      "cell_type": "code",
      "metadata": {
        "id": "rlTbVPAKrZZ9"
      },
      "source": [
        "optimizer = optim.Adam(model.parameters())\n",
        "TRG_PAD_IDX = TRG.vocab.stoi[TRG.pad_token]\n",
        "criterion = nn.CrossEntropyLoss(ignore_index = TRG_PAD_IDX)"
      ],
      "execution_count": 14,
      "outputs": []
    },
    {
      "cell_type": "markdown",
      "metadata": {
        "id": "yKgAodh0rh4Z"
      },
      "source": [
        "### Create Train Function"
      ]
    },
    {
      "cell_type": "code",
      "metadata": {
        "id": "d4OZNcSXrjaM"
      },
      "source": [
        "def train(model, iterator, optimizer, criterion, clip):\n",
        "    model.train()\n",
        "    epoch_loss = 0\n",
        "    for i, batch in enumerate(iterator):\n",
        "        src = batch.src\n",
        "        trg = batch.trg\n",
        "        optimizer.zero_grad()\n",
        "        output = model(src, trg)\n",
        "        output_dim = output.shape[-1]\n",
        "        output = output[1:].view(-1, output_dim)\n",
        "        trg = trg[1:].view(-1)\n",
        "        loss = criterion(output, trg)\n",
        "        loss.backward()\n",
        "        torch.nn.utils.clip_grad_norm_(model.parameters(), clip)\n",
        "        optimizer.step()\n",
        "        epoch_loss += loss.item()\n",
        "    return epoch_loss / len(iterator)"
      ],
      "execution_count": 15,
      "outputs": []
    },
    {
      "cell_type": "markdown",
      "metadata": {
        "id": "Pof-NT17sANl"
      },
      "source": [
        "### Create Evaluation Function"
      ]
    },
    {
      "cell_type": "code",
      "metadata": {
        "id": "xeykXu5usB-7"
      },
      "source": [
        "def evaluate(model, iterator, criterion):\n",
        "    model.eval()\n",
        "    epoch_loss = 0\n",
        "    with torch.no_grad():\n",
        "        for i, batch in enumerate(iterator):\n",
        "            src = batch.src\n",
        "            trg = batch.trg\n",
        "            output = model(src, trg, 0)\n",
        "            output_dim = output.shape[-1]\n",
        "            output = output[1:].view(-1, output_dim)\n",
        "            trg = trg[1:].view(-1)\n",
        "            loss = criterion(output, trg)\n",
        "            epoch_loss += loss.item()\n",
        "    return epoch_loss / len(iterator)"
      ],
      "execution_count": 16,
      "outputs": []
    },
    {
      "cell_type": "markdown",
      "metadata": {
        "id": "AFpgnvN8BZoe"
      },
      "source": [
        "### Time Keeper Function"
      ]
    },
    {
      "cell_type": "code",
      "metadata": {
        "id": "iQ8CmCvNBbg5"
      },
      "source": [
        "def epoch_time(start_time, end_time):\n",
        "    elapsed_time = end_time - start_time\n",
        "    elapsed_mins = int(elapsed_time / 60)\n",
        "    elapsed_secs = int(elapsed_time - (elapsed_mins * 60))\n",
        "    return elapsed_mins, elapsed_secs"
      ],
      "execution_count": 17,
      "outputs": []
    },
    {
      "cell_type": "markdown",
      "metadata": {
        "id": "6Vh0YBqZsUVz"
      },
      "source": [
        "### Start Training"
      ]
    },
    {
      "cell_type": "code",
      "metadata": {
        "id": "R3eOdnuxsZSH",
        "colab": {
          "base_uri": "https://localhost:8080/"
        },
        "outputId": "683a2083-5db6-4f09-f2c5-80b039b452b0"
      },
      "source": [
        "N_EPOCHS = 10\n",
        "CLIP = 1\n",
        "\n",
        "best_valid_loss = float('inf')\n",
        "\n",
        "for epoch in range(N_EPOCHS):    \n",
        "    start_time = time.time()\n",
        "    train_loss = train(model, train_iter, optimizer, criterion, CLIP)\n",
        "    valid_loss = evaluate(model, valid_iter, criterion)\n",
        "    end_time = time.time()\n",
        "    epoch_mins, epoch_secs = epoch_time(start_time, end_time)\n",
        "    if valid_loss < best_valid_loss:\n",
        "        best_valid_loss = valid_loss\n",
        "        torch.save(model.state_dict(), 'tut2-model.pt')\n",
        "    \n",
        "    print(f'Epoch: {epoch+1:02} | Time: {epoch_mins}m {epoch_secs}s')\n",
        "    print(f'\\tTrain Loss: {train_loss:.3f} | Train PPL: {math.exp(train_loss):7.3f}')\n",
        "    print(f'\\t Val. Loss: {valid_loss:.3f} |  Val. PPL: {math.exp(valid_loss):7.3f}')"
      ],
      "execution_count": 18,
      "outputs": [
        {
          "output_type": "stream",
          "text": [
            "Epoch: 01 | Time: 4m 59s\n",
            "\tTrain Loss: 4.859 | Train PPL: 128.957\n",
            "\t Val. Loss: 4.776 |  Val. PPL: 118.686\n",
            "Epoch: 02 | Time: 5m 8s\n",
            "\tTrain Loss: 4.604 | Train PPL:  99.841\n",
            "\t Val. Loss: 4.778 |  Val. PPL: 118.921\n",
            "Epoch: 03 | Time: 5m 12s\n",
            "\tTrain Loss: 4.510 | Train PPL:  90.933\n",
            "\t Val. Loss: 4.776 |  Val. PPL: 118.587\n",
            "Epoch: 04 | Time: 5m 12s\n",
            "\tTrain Loss: 4.455 | Train PPL:  86.013\n",
            "\t Val. Loss: 4.764 |  Val. PPL: 117.196\n",
            "Epoch: 05 | Time: 5m 14s\n",
            "\tTrain Loss: 4.383 | Train PPL:  80.059\n",
            "\t Val. Loss: 4.772 |  Val. PPL: 118.120\n",
            "Epoch: 06 | Time: 5m 13s\n",
            "\tTrain Loss: 4.342 | Train PPL:  76.894\n",
            "\t Val. Loss: 4.780 |  Val. PPL: 119.074\n",
            "Epoch: 07 | Time: 5m 27s\n",
            "\tTrain Loss: 4.290 | Train PPL:  72.958\n",
            "\t Val. Loss: 4.785 |  Val. PPL: 119.689\n",
            "Epoch: 08 | Time: 5m 30s\n",
            "\tTrain Loss: 4.249 | Train PPL:  70.029\n",
            "\t Val. Loss: 4.780 |  Val. PPL: 119.122\n",
            "Epoch: 09 | Time: 5m 26s\n",
            "\tTrain Loss: 4.217 | Train PPL:  67.836\n",
            "\t Val. Loss: 4.778 |  Val. PPL: 118.901\n",
            "Epoch: 10 | Time: 5m 24s\n",
            "\tTrain Loss: 4.152 | Train PPL:  63.545\n",
            "\t Val. Loss: 4.792 |  Val. PPL: 120.571\n"
          ],
          "name": "stdout"
        }
      ]
    },
    {
      "cell_type": "markdown",
      "metadata": {
        "id": "G1Xmj690sf1x"
      },
      "source": [
        "### Reload model and test again"
      ]
    },
    {
      "cell_type": "code",
      "metadata": {
        "id": "ljBG2zaKs-n5",
        "colab": {
          "base_uri": "https://localhost:8080/"
        },
        "outputId": "905fb201-b4de-4260-a122-7ce7551323c7"
      },
      "source": [
        "model.load_state_dict(torch.load('tut2-model.pt'))\n",
        "test_loss = evaluate(model, valid_iter, criterion)\n",
        "print(f'| Test Loss: {test_loss:.3f} | Test PPL: {math.exp(test_loss):7.3f} |')"
      ],
      "execution_count": 19,
      "outputs": [
        {
          "output_type": "stream",
          "text": [
            "| Test Loss: 4.768 | Test PPL: 117.710 |\n"
          ],
          "name": "stdout"
        }
      ]
    },
    {
      "cell_type": "markdown",
      "metadata": {
        "id": "56BbYnUGz4ny"
      },
      "source": [
        "### Run the official Evaluation Script\n",
        "(Check official leaderboard [here](https://stanfordnlp.github.io/coqa/))"
      ]
    },
    {
      "cell_type": "code",
      "metadata": {
        "id": "Og1xDK5YDkjt"
      },
      "source": [
        "# Create preds file\n",
        "alldata = json.load(  open(\"coqa-dev-v1.0.json\", \"r\")  )\n",
        "\n",
        "def test_iteratively_add_conv_history(psg_with_turns, fields):\n",
        "    id_and_turns = []\n",
        "    id = psg_with_turns[\"id\"]\n",
        "    psg = psg_with_turns[\"story\"]\n",
        "    total_turns = len(psg_with_turns[\"questions\"])\n",
        "    dataset = []\n",
        "    turn_num = 1\n",
        "    for q in range(total_turns):\n",
        "        id_and_turns.append( (id, turn_num) )\n",
        "        question = psg_with_turns[\"questions\"][q][\"input_text\"]\n",
        "        answer = psg_with_turns[\"answers\"][q][\"input_text\"]\n",
        "        psg += (\" chiknichameli \" + question)\n",
        "        dataset.append( (psg, answer, fields) )\n",
        "        psg += (\" chiknachamela \" + answer)\n",
        "        turn_num += 1\n",
        "    return dataset, id_and_turns\n",
        "\n",
        "def create_dataset_from_raw_test(alldata, fields):\n",
        "    ids_and_turns = []\n",
        "    dataset = []\n",
        "    for d in alldata[\"data\"]:\n",
        "        recursively_added_data, iat = test_iteratively_add_conv_history(psg_with_turns=d, fields=fields)\n",
        "        dataset.extend( recursively_added_data )\n",
        "        ids_and_turns.extend( iat )\n",
        "    return dataset, ids_and_turns\n",
        "\n",
        "\n",
        "example_ds, ids_and_turns  = create_dataset_from_raw_test(alldata=alldata, fields=fields)\n",
        "example = [  td.Example.fromlist([q,a], f) for q,a,f in  example_ds ] \n",
        "\n",
        "test_ds = td.Dataset(example, fields)\n",
        "\n",
        "SRC.build_vocab(test_ds, min_freq = 5)\n",
        "TRG.build_vocab(test_ds, min_freq = 5)\n",
        "\n",
        "# test_iter = td.BucketIterator( test_ds, \n",
        "#                                                 batch_size=BATCH_SIZE, \n",
        "#                                                 device=device )"
      ],
      "execution_count": null,
      "outputs": []
    },
    {
      "cell_type": "code",
      "metadata": {
        "id": "ksT3pjHR16yM"
      },
      "source": [
        "# !python evaluate-v1.0.py --data-file \"coqa-train-v1.0.json\" --pred-file <path_to_predictions>"
      ],
      "execution_count": 21,
      "outputs": []
    }
  ]
}