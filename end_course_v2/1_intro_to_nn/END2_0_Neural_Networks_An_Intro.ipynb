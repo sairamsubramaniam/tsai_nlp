{
  "nbformat": 4,
  "nbformat_minor": 0,
  "metadata": {
    "colab": {
      "name": "END2.0 Neural Networks - An Intro.ipynb",
      "provenance": []
    },
    "kernelspec": {
      "name": "python3",
      "display_name": "Python 3"
    },
    "language_info": {
      "name": "python"
    }
  },
  "cells": [
    {
      "cell_type": "code",
      "metadata": {
        "colab": {
          "base_uri": "https://localhost:8080/"
        },
        "id": "GC_6PeobwwkH",
        "outputId": "b640040d-2221-4aee-9901-d3440af3f12f"
      },
      "source": [
        "import torch\n",
        "from torch.autograd import Variable\n",
        "import torch.nn as nn\n",
        "import torch.nn.functional as F\n",
        "import torch.optim as optim\n",
        "import numpy as np\n",
        "import matplotlib.pyplot as plt\n",
        "%matplotlib inline\n",
        "torch.manual_seed(2)"
      ],
      "execution_count": 1,
      "outputs": [
        {
          "output_type": "execute_result",
          "data": {
            "text/plain": [
              "<torch._C.Generator at 0x7f4c606598d0>"
            ]
          },
          "metadata": {
            "tags": []
          },
          "execution_count": 1
        }
      ]
    },
    {
      "cell_type": "code",
      "metadata": {
        "id": "bL64bMTkw2GP"
      },
      "source": [
        "X = torch.Tensor([[0,0], [0,1], [1,0], [1,1]])\n",
        "Y = torch.Tensor([0, 1, 1, 0]).view(-1,1)"
      ],
      "execution_count": 2,
      "outputs": []
    },
    {
      "cell_type": "code",
      "metadata": {
        "id": "aC82kEAIw3Wf"
      },
      "source": [
        "class XOR(nn.Module):\n",
        "    def __init__(self, input_dim = 2, output_dim=1):\n",
        "        super(XOR, self).__init__()\n",
        "        self.lin1 = nn.Linear(input_dim, 14, bias=False)\n",
        "        self.lin2 = nn.Linear(14, 1, bias=False)\n",
        "        self.lin3 = nn.Linear(1, output_dim, bias=True)\n",
        "    \n",
        "    def forward(self, x):\n",
        "        x = self.lin1(x)\n",
        "        x = F.tanh(x)\n",
        "        x = self.lin2(x)\n",
        "        x = F.tanh(x)\n",
        "        x = self.lin3(x)\n",
        "        # x = F.tanh(x)\n",
        "        return x"
      ],
      "execution_count": 27,
      "outputs": []
    },
    {
      "cell_type": "code",
      "metadata": {
        "colab": {
          "base_uri": "https://localhost:8080/"
        },
        "id": "8gQIQExYw65K",
        "outputId": "3e83124c-0ae0-4f4a-e43e-65f6395394fe"
      },
      "source": [
        "model = XOR()\n",
        "print(model)\n",
        "from torchsummary import summary\n",
        "summary(model, (2,2))"
      ],
      "execution_count": 28,
      "outputs": [
        {
          "output_type": "stream",
          "text": [
            "XOR(\n",
            "  (lin1): Linear(in_features=2, out_features=14, bias=False)\n",
            "  (lin2): Linear(in_features=14, out_features=1, bias=False)\n",
            "  (lin3): Linear(in_features=1, out_features=1, bias=True)\n",
            ")\n",
            "----------------------------------------------------------------\n",
            "        Layer (type)               Output Shape         Param #\n",
            "================================================================\n",
            "            Linear-1                [-1, 2, 14]              28\n",
            "            Linear-2                 [-1, 2, 1]              14\n",
            "            Linear-3                 [-1, 2, 1]               2\n",
            "================================================================\n",
            "Total params: 44\n",
            "Trainable params: 44\n",
            "Non-trainable params: 0\n",
            "----------------------------------------------------------------\n",
            "Input size (MB): 0.00\n",
            "Forward/backward pass size (MB): 0.00\n",
            "Params size (MB): 0.00\n",
            "Estimated Total Size (MB): 0.00\n",
            "----------------------------------------------------------------\n"
          ],
          "name": "stdout"
        },
        {
          "output_type": "stream",
          "text": [
            "/usr/local/lib/python3.7/dist-packages/torch/nn/functional.py:1698: UserWarning: nn.functional.tanh is deprecated. Use torch.tanh instead.\n",
            "  warnings.warn(\"nn.functional.tanh is deprecated. Use torch.tanh instead.\")\n"
          ],
          "name": "stderr"
        }
      ]
    },
    {
      "cell_type": "code",
      "metadata": {
        "id": "yeotEq19x6XF"
      },
      "source": [
        "def weights_init(model):\n",
        "    for m in model.modules():\n",
        "        if isinstance(m, nn.Linear):\n",
        "            # initialize the weight tensor, here we use a normal distribution\n",
        "            m.weight.data.normal_(0, 1)\n",
        "\n",
        "weights_init(model)"
      ],
      "execution_count": 29,
      "outputs": []
    },
    {
      "cell_type": "code",
      "metadata": {
        "id": "WrD_sNzLx78e"
      },
      "source": [
        "loss_func = nn.L1Loss()"
      ],
      "execution_count": 30,
      "outputs": []
    },
    {
      "cell_type": "code",
      "metadata": {
        "id": "-zvbrMd2x_lA"
      },
      "source": [
        "optimizer = optim.SGD(model.parameters(), lr=0.02, momentum=0.9)\n"
      ],
      "execution_count": 31,
      "outputs": []
    },
    {
      "cell_type": "code",
      "metadata": {
        "colab": {
          "base_uri": "https://localhost:8080/"
        },
        "id": "q7tWa3D7yA5X",
        "outputId": "f9719e31-7422-4559-9eea-fb109588ca61"
      },
      "source": [
        "epochs = 2001\n",
        "steps = X.size(0)\n",
        "for i in range(epochs):\n",
        "    for j in range(steps):\n",
        "        data_point = np.random.randint(X.size(0))\n",
        "        x_var = Variable(X[data_point], requires_grad=False)\n",
        "        y_var = Variable(Y[data_point], requires_grad=False)\n",
        "        \n",
        "        optimizer.zero_grad()\n",
        "        y_hat = model(x_var)\n",
        "        loss = loss_func.forward(y_hat, y_var)\n",
        "        loss.backward()\n",
        "        optimizer.step()\n",
        "        \n",
        "    if i % 50 == 0:\n",
        "        print( \"Epoch: {0}, Loss: {1}, \".format(i, loss.data.numpy()))"
      ],
      "execution_count": 34,
      "outputs": [
        {
          "output_type": "stream",
          "text": [
            "/usr/local/lib/python3.7/dist-packages/torch/nn/functional.py:1698: UserWarning: nn.functional.tanh is deprecated. Use torch.tanh instead.\n",
            "  warnings.warn(\"nn.functional.tanh is deprecated. Use torch.tanh instead.\")\n"
          ],
          "name": "stderr"
        },
        {
          "output_type": "stream",
          "text": [
            "Epoch: 0, Loss: 0.013135433197021484, \n",
            "Epoch: 50, Loss: 0.1829918622970581, \n",
            "Epoch: 100, Loss: 0.1424679160118103, \n",
            "Epoch: 150, Loss: 0.887036144733429, \n",
            "Epoch: 200, Loss: 0.05967777222394943, \n",
            "Epoch: 250, Loss: 0.15499746799468994, \n",
            "Epoch: 300, Loss: 1.087615966796875, \n",
            "Epoch: 350, Loss: 0.0009421110153198242, \n",
            "Epoch: 400, Loss: 0.12783360481262207, \n",
            "Epoch: 450, Loss: 0.04002857208251953, \n",
            "Epoch: 500, Loss: 1.2511796951293945, \n",
            "Epoch: 550, Loss: 0.10618564486503601, \n",
            "Epoch: 600, Loss: 1.0705735683441162, \n",
            "Epoch: 650, Loss: 0.8232023119926453, \n",
            "Epoch: 700, Loss: 0.8193415999412537, \n",
            "Epoch: 750, Loss: 0.048903677612543106, \n",
            "Epoch: 800, Loss: 0.17970335483551025, \n",
            "Epoch: 850, Loss: 0.1782679557800293, \n",
            "Epoch: 900, Loss: 0.1261378824710846, \n",
            "Epoch: 950, Loss: 1.169411063194275, \n",
            "Epoch: 1000, Loss: 0.5775601863861084, \n",
            "Epoch: 1050, Loss: 0.9588590860366821, \n",
            "Epoch: 1100, Loss: 0.9073511958122253, \n",
            "Epoch: 1150, Loss: 0.25483953952789307, \n",
            "Epoch: 1200, Loss: 0.046733200550079346, \n",
            "Epoch: 1250, Loss: 1.0173861980438232, \n",
            "Epoch: 1300, Loss: 0.6264264583587646, \n",
            "Epoch: 1350, Loss: 0.888296365737915, \n",
            "Epoch: 1400, Loss: 0.41568681597709656, \n",
            "Epoch: 1450, Loss: 0.8514237999916077, \n",
            "Epoch: 1500, Loss: 0.04028351977467537, \n",
            "Epoch: 1550, Loss: 0.14885233342647552, \n",
            "Epoch: 1600, Loss: 1.1878658533096313, \n",
            "Epoch: 1650, Loss: 0.24778687953948975, \n",
            "Epoch: 1700, Loss: 0.8213440775871277, \n",
            "Epoch: 1750, Loss: 0.43899038434028625, \n",
            "Epoch: 1800, Loss: 0.2269817590713501, \n",
            "Epoch: 1850, Loss: 0.3464358448982239, \n",
            "Epoch: 1900, Loss: 0.2935941219329834, \n",
            "Epoch: 1950, Loss: 0.09057600796222687, \n",
            "Epoch: 2000, Loss: 0.07851457595825195, \n"
          ],
          "name": "stdout"
        }
      ]
    },
    {
      "cell_type": "code",
      "metadata": {
        "id": "QV0dIdveyCRi"
      },
      "source": [
        ""
      ],
      "execution_count": null,
      "outputs": []
    }
  ]
}