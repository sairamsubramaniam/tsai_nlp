{
 "cells": [
  {
   "cell_type": "code",
   "execution_count": 1,
   "metadata": {
    "ExecuteTime": {
     "end_time": "2021-05-05T11:23:19.370438Z",
     "start_time": "2021-05-05T11:23:10.036859Z"
    },
    "colab": {
     "base_uri": "https://localhost:8080/"
    },
    "id": "GC_6PeobwwkH",
    "outputId": "114cb4b1-4ec3-4080-839a-9aff362a8bea"
   },
   "outputs": [
    {
     "data": {
      "text/plain": [
       "<torch._C.Generator at 0x20b62cf3f10>"
      ]
     },
     "execution_count": 1,
     "metadata": {},
     "output_type": "execute_result"
    }
   ],
   "source": [
    "import torch\n",
    "from torch.autograd import Variable\n",
    "import torch.nn as nn\n",
    "import torch.nn.functional as F\n",
    "import torch.optim as optim\n",
    "import numpy as np\n",
    "import matplotlib.pyplot as plt\n",
    "%matplotlib inline\n",
    "torch.manual_seed(2)"
   ]
  },
  {
   "cell_type": "code",
   "execution_count": 2,
   "metadata": {
    "ExecuteTime": {
     "end_time": "2021-05-05T11:23:20.505640Z",
     "start_time": "2021-05-05T11:23:20.498644Z"
    },
    "id": "bL64bMTkw2GP"
   },
   "outputs": [],
   "source": [
    "X = torch.Tensor([[0,0], [0,1], [1,0], [1,1]])\n",
    "Y = torch.Tensor([0, 1, 1, 0]).view(-1,1)"
   ]
  },
  {
   "cell_type": "code",
   "execution_count": 13,
   "metadata": {
    "ExecuteTime": {
     "end_time": "2021-05-05T11:29:08.847328Z",
     "start_time": "2021-05-05T11:29:08.840331Z"
    },
    "id": "aC82kEAIw3Wf"
   },
   "outputs": [],
   "source": [
    "class XOR(nn.Module):\n",
    "    def __init__(self, input_dim = 2, output_dim=1):\n",
    "        super(XOR, self).__init__()\n",
    "        self.lin1 = nn.Linear(input_dim, 11)\n",
    "        self.lin2 = nn.Linear(11, output_dim,bias=False)\n",
    "    \n",
    "    def forward(self, x):\n",
    "        x = self.lin1(x)\n",
    "        x = F.tanh(x)\n",
    "        x = self.lin2(x)\n",
    "#         x = F.tanh(x)\n",
    "        return x"
   ]
  },
  {
   "cell_type": "code",
   "execution_count": 14,
   "metadata": {
    "ExecuteTime": {
     "end_time": "2021-05-05T11:29:09.543193Z",
     "start_time": "2021-05-05T11:29:09.535196Z"
    },
    "colab": {
     "base_uri": "https://localhost:8080/"
    },
    "id": "8gQIQExYw65K",
    "outputId": "4bdf78f4-844f-424d-ce0d-9c14d469e618"
   },
   "outputs": [
    {
     "name": "stdout",
     "output_type": "stream",
     "text": [
      "XOR(\n",
      "  (lin1): Linear(in_features=2, out_features=11, bias=True)\n",
      "  (lin2): Linear(in_features=11, out_features=1, bias=False)\n",
      ")\n",
      "----------------------------------------------------------------\n",
      "        Layer (type)               Output Shape         Param #\n",
      "================================================================\n",
      "            Linear-1                [-1, 2, 11]              33\n",
      "            Linear-2                 [-1, 2, 1]              11\n",
      "================================================================\n",
      "Total params: 44\n",
      "Trainable params: 44\n",
      "Non-trainable params: 0\n",
      "----------------------------------------------------------------\n",
      "Input size (MB): 0.00\n",
      "Forward/backward pass size (MB): 0.00\n",
      "Params size (MB): 0.00\n",
      "Estimated Total Size (MB): 0.00\n",
      "----------------------------------------------------------------\n"
     ]
    }
   ],
   "source": [
    "model = XOR()\n",
    "print(model)\n",
    "from torchsummary import summary\n",
    "summary(model, (2,2))"
   ]
  },
  {
   "cell_type": "code",
   "execution_count": 15,
   "metadata": {
    "ExecuteTime": {
     "end_time": "2021-05-05T11:29:28.684105Z",
     "start_time": "2021-05-05T11:29:28.672103Z"
    },
    "id": "yeotEq19x6XF"
   },
   "outputs": [],
   "source": [
    "def weights_init(model):\n",
    "    for m in model.modules():\n",
    "        if isinstance(m, nn.Linear):\n",
    "            # initialize the weight tensor, here we use a normal distribution\n",
    "            m.weight.data.normal_(0, 1)\n",
    "\n",
    "weights_init(model)"
   ]
  },
  {
   "cell_type": "code",
   "execution_count": 16,
   "metadata": {
    "ExecuteTime": {
     "end_time": "2021-05-05T11:29:30.180527Z",
     "start_time": "2021-05-05T11:29:30.177526Z"
    },
    "id": "WrD_sNzLx78e"
   },
   "outputs": [],
   "source": [
    "loss_func = nn.L1Loss()"
   ]
  },
  {
   "cell_type": "code",
   "execution_count": 17,
   "metadata": {
    "ExecuteTime": {
     "end_time": "2021-05-05T11:29:31.211747Z",
     "start_time": "2021-05-05T11:29:31.208774Z"
    },
    "id": "-zvbrMd2x_lA"
   },
   "outputs": [],
   "source": [
    "optimizer = optim.SGD(model.parameters(), lr=0.02, momentum=0.9)\n"
   ]
  },
  {
   "cell_type": "code",
   "execution_count": 22,
   "metadata": {
    "ExecuteTime": {
     "end_time": "2021-05-05T11:31:38.827264Z",
     "start_time": "2021-05-05T11:31:34.497268Z"
    },
    "colab": {
     "base_uri": "https://localhost:8080/"
    },
    "id": "q7tWa3D7yA5X",
    "outputId": "1c11d78f-f8e9-4e3b-d949-2ec6cead9d44"
   },
   "outputs": [
    {
     "name": "stdout",
     "output_type": "stream",
     "text": [
      "Epoch: 1, Loss: 0.005572319030761719, \n",
      "Epoch: 51, Loss: 0.03244572877883911, \n",
      "Epoch: 101, Loss: 0.0255202054977417, \n",
      "Epoch: 151, Loss: 0.005652427673339844, \n",
      "Epoch: 201, Loss: 0.4282844066619873, \n",
      "Epoch: 251, Loss: 0.05086660385131836, \n",
      "Epoch: 301, Loss: 0.32400238513946533, \n",
      "Epoch: 351, Loss: 0.11180698871612549, \n",
      "Epoch: 401, Loss: 0.3227877616882324, \n",
      "Epoch: 451, Loss: 0.10608398914337158, \n",
      "Epoch: 501, Loss: 0.10692983865737915, \n",
      "Epoch: 551, Loss: 0.1302851438522339, \n",
      "Epoch: 601, Loss: 0.3192009925842285, \n",
      "Epoch: 651, Loss: 0.15850555896759033, \n",
      "Epoch: 701, Loss: 0.13780266046524048, \n",
      "Epoch: 751, Loss: 0.44654008746147156, \n",
      "Epoch: 801, Loss: 0.11541599035263062, \n",
      "Epoch: 851, Loss: 0.12169957160949707, \n",
      "Epoch: 901, Loss: 0.17318129539489746, \n",
      "Epoch: 951, Loss: 0.7133429050445557, \n",
      "Epoch: 1001, Loss: 0.21348392963409424, \n",
      "Epoch: 1051, Loss: 0.5360920429229736, \n",
      "Epoch: 1101, Loss: 0.29367583990097046, \n",
      "Epoch: 1151, Loss: 0.012358427047729492, \n",
      "Epoch: 1201, Loss: 0.11092954874038696, \n",
      "Epoch: 1251, Loss: 0.3558238744735718, \n",
      "Epoch: 1301, Loss: 0.04173851013183594, \n",
      "Epoch: 1351, Loss: 0.2255508303642273, \n",
      "Epoch: 1401, Loss: 0.08216607570648193, \n",
      "Epoch: 1451, Loss: 0.05870300531387329, \n",
      "Epoch: 1501, Loss: 0.06161409616470337, \n",
      "Epoch: 1551, Loss: 0.15279200673103333, \n",
      "Epoch: 1601, Loss: 0.47154462337493896, \n",
      "Epoch: 1651, Loss: 0.09185528755187988, \n",
      "Epoch: 1701, Loss: 0.019291698932647705, \n",
      "Epoch: 1751, Loss: 0.3202000856399536, \n",
      "Epoch: 1801, Loss: 0.0018852949142456055, \n",
      "Epoch: 1851, Loss: 0.42775189876556396, \n",
      "Epoch: 1901, Loss: 0.06016528606414795, \n",
      "Epoch: 1951, Loss: 0.06429767608642578, \n",
      "Epoch: 2001, Loss: 0.15884459018707275, \n"
     ]
    }
   ],
   "source": [
    "epochs = 2001\n",
    "steps = X.size(0)\n",
    "for i in range(epochs):\n",
    "    for j in range(steps):\n",
    "        data_point = np.random.randint(X.size(0))\n",
    "        x_var = Variable(X[data_point], requires_grad=False)\n",
    "        y_var = Variable(Y[data_point], requires_grad=False)\n",
    "        \n",
    "        optimizer.zero_grad()\n",
    "        y_hat = model(x_var)\n",
    "        loss = loss_func.forward(y_hat, y_var)\n",
    "        loss.backward()\n",
    "        optimizer.step()\n",
    "        \n",
    "    if i % 50 == 0:\n",
    "        print( \"Epoch: {0}, Loss: {1}, \".format(i+1, loss.data.numpy()))"
   ]
  },
  {
   "cell_type": "code",
   "execution_count": null,
   "metadata": {
    "id": "QV0dIdveyCRi"
   },
   "outputs": [],
   "source": []
  }
 ],
 "metadata": {
  "colab": {
   "name": "END2.0 Session 1.ipynb",
   "provenance": []
  },
  "kernelspec": {
   "display_name": "Python 3",
   "language": "python",
   "name": "python3"
  },
  "language_info": {
   "codemirror_mode": {
    "name": "ipython",
    "version": 3
   },
   "file_extension": ".py",
   "mimetype": "text/x-python",
   "name": "python",
   "nbconvert_exporter": "python",
   "pygments_lexer": "ipython3",
   "version": "3.7.7"
  },
  "toc": {
   "base_numbering": 1,
   "nav_menu": {},
   "number_sections": true,
   "sideBar": true,
   "skip_h1_title": false,
   "title_cell": "Table of Contents",
   "title_sidebar": "Contents",
   "toc_cell": false,
   "toc_position": {},
   "toc_section_display": true,
   "toc_window_display": false
  },
  "varInspector": {
   "cols": {
    "lenName": 16,
    "lenType": 16,
    "lenVar": 40
   },
   "kernels_config": {
    "python": {
     "delete_cmd_postfix": "",
     "delete_cmd_prefix": "del ",
     "library": "var_list.py",
     "varRefreshCmd": "print(var_dic_list())"
    },
    "r": {
     "delete_cmd_postfix": ") ",
     "delete_cmd_prefix": "rm(",
     "library": "var_list.r",
     "varRefreshCmd": "cat(var_dic_list()) "
    }
   },
   "types_to_exclude": [
    "module",
    "function",
    "builtin_function_or_method",
    "instance",
    "_Feature"
   ],
   "window_display": false
  }
 },
 "nbformat": 4,
 "nbformat_minor": 1
}
