{
 "cells": [
  {
   "cell_type": "markdown",
   "metadata": {},
   "source": [
    "## IMPORTS"
   ]
  },
  {
   "cell_type": "code",
   "execution_count": 1,
   "metadata": {},
   "outputs": [],
   "source": [
    "import functools\n",
    "import math\n",
    "import random"
   ]
  },
  {
   "cell_type": "markdown",
   "metadata": {},
   "source": [
    "## 1. Check if input is Fib Number by looking up a list"
   ]
  },
  {
   "cell_type": "code",
   "execution_count": 2,
   "metadata": {},
   "outputs": [],
   "source": [
    "# Create a fibonacci number list:\n",
    "def fib(limit=10000, fiblist=[]):\n",
    "    \n",
    "    if limit <= 0:\n",
    "        raise Exception(\"Limit has to be greater than 0\")\n",
    "        \n",
    "    if len(fiblist) >= 2:\n",
    "        num1 = fiblist[-1]\n",
    "        num2 = fiblist[-2]\n",
    "    else:\n",
    "        fiblist = [0, 1]\n",
    "        num1 = 0\n",
    "        num2 = 1\n",
    "    \n",
    "\n",
    "    if num1 + num2 > 10000:\n",
    "        return fiblist\n",
    "    else:\n",
    "        fiblist.append(num1+num2)\n",
    "        fib(limit=limit, fiblist=fiblist)\n",
    "    \n",
    "    return fiblist\n",
    "\n",
    "fibnums = fib()"
   ]
  },
  {
   "cell_type": "code",
   "execution_count": 3,
   "metadata": {},
   "outputs": [
    {
     "name": "stdout",
     "output_type": "stream",
     "text": [
      "True\n"
     ]
    }
   ],
   "source": [
    "inp = 4181\n",
    "func = lambda x: x in fibnums\n",
    "output = func(inp)\n",
    "print(output)"
   ]
  },
  {
   "cell_type": "markdown",
   "metadata": {},
   "source": [
    "## 2. Using list comp, zip lambda etc."
   ]
  },
  {
   "cell_type": "markdown",
   "metadata": {},
   "source": [
    "### 2a. add 2 iterables a and b such that a is even and b is odd"
   ]
  },
  {
   "cell_type": "code",
   "execution_count": 4,
   "metadata": {},
   "outputs": [
    {
     "name": "stdout",
     "output_type": "stream",
     "text": [
      "[3, 7, 11]\n"
     ]
    }
   ],
   "source": [
    "a = [1,2,3,4,5,6]\n",
    "b = [1,2,3,4,5,6]\n",
    "\n",
    "output = list(  map(sum, zip( filter(lambda x: x%2==0, a) , filter(lambda x: x%2!=0, b) ) )  )\n",
    "print(output)"
   ]
  },
  {
   "cell_type": "markdown",
   "metadata": {},
   "source": [
    "### 2b. strips every vowel from a string provided"
   ]
  },
  {
   "cell_type": "code",
   "execution_count": 5,
   "metadata": {},
   "outputs": [
    {
     "name": "stdout",
     "output_type": "stream",
     "text": [
      "ts\n"
     ]
    }
   ],
   "source": [
    "inp = \"tsai\"\n",
    "output = \"\".join([x for x in inp if x not in \"aeiou\"])\n",
    "print(output)"
   ]
  },
  {
   "cell_type": "markdown",
   "metadata": {},
   "source": [
    "### 2c. acts like a ReLU function for a 1D array"
   ]
  },
  {
   "cell_type": "code",
   "execution_count": 6,
   "metadata": {},
   "outputs": [
    {
     "name": "stdout",
     "output_type": "stream",
     "text": [
      "[1, 0.0, 259087, 0.0, 0.0, 0.06, 0.0, 0]\n"
     ]
    }
   ],
   "source": [
    "inp = [1, -1, 259087, -3092, 0.0, 0.06, -0.17, 0]\n",
    "output = [x if x >= 0 else 0.0 for x in inp]\n",
    "print(output)"
   ]
  },
  {
   "cell_type": "markdown",
   "metadata": {},
   "source": [
    "### 2d. acts like a sigmoid function for 1D array"
   ]
  },
  {
   "cell_type": "code",
   "execution_count": 7,
   "metadata": {},
   "outputs": [
    {
     "name": "stdout",
     "output_type": "stream",
     "text": [
      "[0.7310585786300049, 0.2689414213699951, 1.0, 0.0, 0.5, 0.5149955016194101, 0.457602059225649, 0.5]\n"
     ]
    }
   ],
   "source": [
    "inp = [1, -1, 259, -3092, 0.0, 0.06, -0.17, 0]\n",
    "output = [math.exp(x) / (math.exp(x)+1) for x in inp]\n",
    "print(output)"
   ]
  },
  {
   "cell_type": "markdown",
   "metadata": {},
   "source": [
    "### 2e. shift characters by 5"
   ]
  },
  {
   "cell_type": "code",
   "execution_count": 8,
   "metadata": {},
   "outputs": [
    {
     "name": "stdout",
     "output_type": "stream",
     "text": [
      "['y', 'x', 'f', 'c']\n"
     ]
    }
   ],
   "source": [
    "import string\n",
    "ltrs = string.ascii_lowercase\n",
    "idx = lambda x: (ltrs.index(x) + 5) % len(ltrs)\n",
    "\n",
    "inp = \"tsax\"\n",
    "output = [ ltrs[idx(x)] for x in inp ]\n",
    "print(output)"
   ]
  },
  {
   "cell_type": "markdown",
   "metadata": {},
   "source": [
    "## 3. Check if swear words exist"
   ]
  },
  {
   "cell_type": "code",
   "execution_count": 9,
   "metadata": {},
   "outputs": [
    {
     "name": "stdout",
     "output_type": "stream",
     "text": [
      "--2020-11-01 10:14:41--  https://raw.githubusercontent.com/RobertJGabriel/Google-profanity-words/master/list.txt\n",
      "Resolving raw.githubusercontent.com (raw.githubusercontent.com)... 151.101.112.133\n",
      "Connecting to raw.githubusercontent.com (raw.githubusercontent.com)|151.101.112.133|:443... connected.\n",
      "HTTP request sent, awaiting response... 200 OK\n",
      "Length: 3622 (3.5K) [text/plain]\n",
      "Saving to: ‘swear_words’\n",
      "\n",
      "swear_words         100%[===================>]   3.54K  --.-KB/s    in 0s      \n",
      "\n",
      "2020-11-01 10:14:42 (15.9 MB/s) - ‘swear_words’ saved [3622/3622]\n",
      "\n"
     ]
    }
   ],
   "source": [
    "!wget https://raw.githubusercontent.com/RobertJGabriel/Google-profanity-words/master/list.txt -O swear_words\n",
    "with open(\"swear_words\", \"r\") as sw:\n",
    "    swrds = [ x.strip() for x in sw.readlines() ]"
   ]
  },
  {
   "cell_type": "code",
   "execution_count": 10,
   "metadata": {},
   "outputs": [
    {
     "name": "stdout",
     "output_type": "stream",
     "text": [
      "True\n"
     ]
    }
   ],
   "source": [
    "para = \"'4r5e', '5h1t', '5hit', 'a55', 'anal', 'anus', 'ar5e', 'arrse', 'arse', 'ass', 'ass-fucker', 'asses', 'assfucker', 'assfukka', 'asshole', 'assholes', 'asswhole', 'a_s_s', 'b!tch', 'b00bs', 'b17ch', 'b1tch', 'ballbag', 'balls', 'ballsack', 'bastard', 'beastial', 'beastiality', 'bellend', 'bestial', 'bestiality', 'bi+ch', 'biatch', 'bitch', 'bit very good saint\"\n",
    "para1 = \"no no no asshole\"\n",
    "exists = any([True for w in swrds if w in para1])\n",
    "print(exists)"
   ]
  },
  {
   "cell_type": "markdown",
   "metadata": {},
   "source": [
    "## 4. Use reduce functions to:"
   ]
  },
  {
   "cell_type": "markdown",
   "metadata": {},
   "source": [
    "### 4a. add only even numbers in a list"
   ]
  },
  {
   "cell_type": "code",
   "execution_count": 11,
   "metadata": {},
   "outputs": [
    {
     "name": "stdout",
     "output_type": "stream",
     "text": [
      "12\n"
     ]
    }
   ],
   "source": [
    "inp = [1, 2, 3, 4, 5, 6]\n",
    "output = functools.reduce( lambda x,y: x+y, filter(lambda x: x%2==0, inp) )\n",
    "print(output)"
   ]
  },
  {
   "cell_type": "markdown",
   "metadata": {},
   "source": [
    "### 4b. find the biggest character in a string(ascii)"
   ]
  },
  {
   "cell_type": "code",
   "execution_count": 12,
   "metadata": {},
   "outputs": [
    {
     "name": "stdout",
     "output_type": "stream",
     "text": [
      "z\n"
     ]
    }
   ],
   "source": [
    "inp = \"abcz de\"\n",
    "output = functools.reduce(lambda x,y: x if ord(x) > ord(y) else y, inp)\n",
    "print(output)"
   ]
  },
  {
   "cell_type": "code",
   "execution_count": 13,
   "metadata": {},
   "outputs": [
    {
     "name": "stdout",
     "output_type": "stream",
     "text": [
      "y\n"
     ]
    }
   ],
   "source": [
    "inp = \"aybcde \"\n",
    "output = functools.reduce(lambda x,y: x if x > y else y, inp)\n",
    "print(output)"
   ]
  },
  {
   "cell_type": "markdown",
   "metadata": {},
   "source": [
    "### 4c. adds every 3rd number in a list"
   ]
  },
  {
   "cell_type": "code",
   "execution_count": 14,
   "metadata": {},
   "outputs": [
    {
     "name": "stdout",
     "output_type": "stream",
     "text": [
      "18\n"
     ]
    }
   ],
   "source": [
    "inp = [1,2,3,4,5,6,7,8,9,10,11]\n",
    "\n",
    "filter_obj = filter( lambda n: (n[0]+1)%3==0, zip(range(len(inp)), inp) )\n",
    "map_obj = map(lambda x: x[1], filter_obj)\n",
    "output = functools.reduce(lambda x,y: x+y, map_obj )\n",
    "print(output)"
   ]
  },
  {
   "cell_type": "markdown",
   "metadata": {},
   "source": [
    "## 5. 15 random number plates [format - KADDAADDDD], \n",
    "**_( KA is fixed, D -> digit,  A -> Capital alphabets)_**  \n",
    "(USE randint, random.choice and list comprehensions)"
   ]
  },
  {
   "cell_type": "code",
   "execution_count": 15,
   "metadata": {},
   "outputs": [
    {
     "name": "stdout",
     "output_type": "stream",
     "text": [
      "['KA93RA3151', 'KA93AT6208', 'KA27MT9167', 'KA14RW7969', 'KA67AP1079', 'KA94LG2130', 'KA67GA1318', 'KA30HY3062', 'KA12NS7575', 'KA27LP4019', 'KA19AW3966', 'KA35QC4676', 'KA86BI6750', 'KA71YZ3233', 'KA87GX8547']\n"
     ]
    }
   ],
   "source": [
    "st = \"KA\"\n",
    "n1 = lambda: random.randint(10,99)\n",
    "n2 = lambda: random.randint(1000,9999)\n",
    "a1 = lambda: random.choice(string.ascii_uppercase)\n",
    "alph2 = lambda: \"\".join(a1() for k in range(2))\n",
    "\n",
    "# INPUTS:\n",
    "total = 15\n",
    "\n",
    "output = [st + str(n1()) + alph2() + str(n2())\n",
    "         for r in range(15)]\n",
    "print(output)"
   ]
  },
  {
   "cell_type": "markdown",
   "metadata": {},
   "source": [
    "## 6. Redo exercise 5 (above) by:\n",
    "**_Changing \"KA\" from fixed to choice between (\"KA\" & \"DL\")_**  \n",
    "**_Custom range can be mentioned instead of just 1000 to 9999_**"
   ]
  },
  {
   "cell_type": "code",
   "execution_count": 16,
   "metadata": {},
   "outputs": [
    {
     "name": "stdout",
     "output_type": "stream",
     "text": [
      "['KA17UF2255', 'DL29KU2419', 'KA88VA2212', 'KA41WC2338', 'KA93GY2452', 'DL21YX2543', 'DL69SS2604', 'DL40RG2024', 'KA32JI2568', 'KA72LL2321', 'KA41JG2109', 'DL70EC2278', 'DL24EI2582', 'KA92ZH2233', 'DL30AI2057']\n"
     ]
    }
   ],
   "source": [
    "st = lambda: random.choice([\"KA\", \"DL\"])\n",
    "n1 = lambda: random.randint(10,99)\n",
    "n2 = lambda args: random.randint(*args)\n",
    "a1 = lambda: random.choice(string.ascii_uppercase)\n",
    "alph2 = lambda: \"\".join(a1() for k in range(2))\n",
    "\n",
    "# INPUTS\n",
    "total = 15\n",
    "n2_range = [1999, 2666]\n",
    "\n",
    "\n",
    "output = [st() + str(n1()) + alph2() + str(n2(n2_range))\n",
    "         for r in range(15)]\n",
    "print(output)"
   ]
  }
 ],
 "metadata": {
  "kernelspec": {
   "display_name": "Python 3",
   "language": "python",
   "name": "python3"
  },
  "language_info": {
   "codemirror_mode": {
    "name": "ipython",
    "version": 3
   },
   "file_extension": ".py",
   "mimetype": "text/x-python",
   "name": "python",
   "nbconvert_exporter": "python",
   "pygments_lexer": "ipython3",
   "version": "3.8.5"
  }
 },
 "nbformat": 4,
 "nbformat_minor": 4
}
